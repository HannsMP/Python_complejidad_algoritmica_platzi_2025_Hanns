{
 "cells": [
  {
   "cell_type": "markdown",
   "metadata": {},
   "source": [
    "[codewars](https://www.codewars.com/)"
   ]
  },
  {
   "cell_type": "code",
   "execution_count": null,
   "metadata": {},
   "outputs": [],
   "source": [
    "def morral(tamaño, pesos, valores, n):\n",
    "    if n == 0 or tamaño == 0:\n",
    "        return 0\n",
    "\n",
    "    morral_n_1 = morral(tamaño, pesos, valores, n-1)\n",
    "\n",
    "    if pesos[n-1] > tamaño:\n",
    "        return morral_n_1\n",
    "\n",
    "    return max(\n",
    "        valores[n-1] + morral(tamaño - pesos[n-1], pesos, valores, n-1),\n",
    "        morral_n_1\n",
    "    )"
   ]
  },
  {
   "cell_type": "code",
   "execution_count": 13,
   "metadata": {},
   "outputs": [
    {
     "name": "stdout",
     "output_type": "stream",
     "text": [
      "280\n"
     ]
    }
   ],
   "source": [
    "valores = (60, 100, 120)\n",
    "pesos = (10, 20, 30)\n",
    "tamaño = 60\n",
    "n = len(valores)\n",
    "\n",
    "resultado = morral(tamaño, pesos, valores, n)\n",
    "print(resultado)"
   ]
  }
 ],
 "metadata": {
  "kernelspec": {
   "display_name": "Python 3",
   "language": "python",
   "name": "python3"
  },
  "language_info": {
   "codemirror_mode": {
    "name": "ipython",
    "version": 3
   },
   "file_extension": ".py",
   "mimetype": "text/x-python",
   "name": "python",
   "nbconvert_exporter": "python",
   "pygments_lexer": "ipython3",
   "version": "3.11.0"
  }
 },
 "nbformat": 4,
 "nbformat_minor": 2
}
