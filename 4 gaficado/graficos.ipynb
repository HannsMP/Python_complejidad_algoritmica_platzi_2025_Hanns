{
 "cells": [
  {
   "cell_type": "markdown",
   "metadata": {},
   "source": [
    "[bokeh](https://bokeh.org)"
   ]
  },
  {
   "cell_type": "code",
   "execution_count": 2,
   "metadata": {},
   "outputs": [],
   "source": [
    "from bokeh.plotting import figure, output_file, show\n",
    "\n",
    "if __name__ == '__main__':\n",
    "    output_file('graficado_simple.html')\n",
    "    fig = figure()\n",
    "    \n",
    "    total_vals = int(input('Cuantos valores quieres graficar?'))\n",
    "    x_vals = list(range(total_vals))\n",
    "    y_vals = []\n",
    "\n",
    "    for x in x_vals:\n",
    "        val = int(input(f'Valor y para {x}'))\n",
    "        y_vals.append(val)\n",
    "\n",
    "    fig.line(x_vals, y_vals, line_width=2)\n",
    "    show(fig)"
   ]
  }
 ],
 "metadata": {
  "kernelspec": {
   "display_name": "Python 3",
   "language": "python",
   "name": "python3"
  },
  "language_info": {
   "codemirror_mode": {
    "name": "ipython",
    "version": 3
   },
   "file_extension": ".py",
   "mimetype": "text/x-python",
   "name": "python",
   "nbconvert_exporter": "python",
   "pygments_lexer": "ipython3",
   "version": "3.11.0"
  }
 },
 "nbformat": 4,
 "nbformat_minor": 2
}
