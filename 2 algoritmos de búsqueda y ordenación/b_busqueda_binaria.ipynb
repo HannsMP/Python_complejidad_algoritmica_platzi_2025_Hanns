{
 "cells": [
  {
   "cell_type": "code",
   "execution_count": 1,
   "metadata": {},
   "outputs": [],
   "source": [
    "from random import randint"
   ]
  },
  {
   "cell_type": "code",
   "execution_count": 2,
   "metadata": {},
   "outputs": [],
   "source": [
    "def busqueda_binaria(lista, objetivo, comienzo, final, iteracion = 1):\n",
    "    print(f\"Buscando {objetivo} entre los indices {comienzo}:{final} y los valores {lista[comienzo]}:{lista[final-1]}\")\n",
    "    if comienzo > final:\n",
    "        return False, iteracion\n",
    "\n",
    "    medio = (comienzo + final) // 2\n",
    "\n",
    "    if lista[medio] == objetivo:\n",
    "        return True, iteracion\n",
    "    elif lista[medio] < objetivo:\n",
    "        return busqueda_binaria(lista, objetivo, medio+1, final, iteracion+1)\n",
    "    else:\n",
    "        return busqueda_binaria(lista, objetivo, comienzo, medio-1, iteracion+1)"
   ]
  },
  {
   "cell_type": "code",
   "execution_count": 3,
   "metadata": {},
   "outputs": [
    {
     "name": "stdout",
     "output_type": "stream",
     "text": [
      "[5, 11, 11, 11, 20, 21, 21, 23, 23, 25, 28, 29, 38, 46, 65, 67, 82, 82, 87, 88]\n",
      "Buscando 45 entre los indices 0:20 y los valores 5:88\n",
      "Buscando 45 entre los indices 11:20 y los valores 29:88\n",
      "Buscando 45 entre los indices 11:14 y los valores 29:46\n",
      "Buscando 45 entre los indices 13:14 y los valores 46:46\n",
      "Buscando 45 entre los indices 13:12 y los valores 46:29\n",
      "El elemento 45 no esta en la lista, con 5 iteraciones\n"
     ]
    }
   ],
   "source": [
    "tamaño = 20\n",
    "objetivo = 45\n",
    "\n",
    "lista = sorted([randint(0, 100) for _ in range(0, tamaño)])\n",
    "\n",
    "print(lista)\n",
    "\n",
    "encontrado, iteracion = busqueda_binaria(lista, objetivo, 0, len(lista))\n",
    "\n",
    "print(f\"El elemento {objetivo} {'esta' if encontrado else 'no esta'} en la lista, con {iteracion} iteraciones\")"
   ]
  }
 ],
 "metadata": {
  "kernelspec": {
   "display_name": "Python 3",
   "language": "python",
   "name": "python3"
  },
  "language_info": {
   "codemirror_mode": {
    "name": "ipython",
    "version": 3
   },
   "file_extension": ".py",
   "mimetype": "text/x-python",
   "name": "python",
   "nbconvert_exporter": "python",
   "pygments_lexer": "ipython3",
   "version": "3.11.0"
  }
 },
 "nbformat": 4,
 "nbformat_minor": 2
}
