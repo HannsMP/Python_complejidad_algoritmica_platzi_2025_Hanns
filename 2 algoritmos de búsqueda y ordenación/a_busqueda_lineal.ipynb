{
 "cells": [
  {
   "cell_type": "code",
   "execution_count": 1,
   "metadata": {},
   "outputs": [],
   "source": [
    "from random import randint"
   ]
  },
  {
   "cell_type": "code",
   "execution_count": 2,
   "metadata": {},
   "outputs": [],
   "source": [
    "def busqueda_lineal(lista, objetivo):\n",
    "    match = False\n",
    "\n",
    "    for elemento in lista: # O(n)\n",
    "        if elemento == objetivo:\n",
    "            match = True\n",
    "            break\n",
    "\n",
    "    return match"
   ]
  },
  {
   "cell_type": "code",
   "execution_count": 3,
   "metadata": {},
   "outputs": [
    {
     "name": "stdout",
     "output_type": "stream",
     "text": [
      "[0, 0, 8, 11, 14, 14, 26, 38, 44, 47, 53, 57, 58, 64, 66, 73, 78, 88, 98, 99]\n",
      "El elemento 45 No esta en la lista\n"
     ]
    }
   ],
   "source": [
    "tamaño = 20\n",
    "objetivo = 45\n",
    "lista = [randint(0, 100) for _ in range(0, tamaño)]\n",
    "\n",
    "encontrado = busqueda_lineal(lista, objetivo)\n",
    "\n",
    "lista.sort()\n",
    "print(lista)\n",
    "print(f\"El elemento {objetivo} {'esta' if encontrado else 'No esta'} en la lista\")"
   ]
  }
 ],
 "metadata": {
  "kernelspec": {
   "display_name": "Python 3",
   "language": "python",
   "name": "python3"
  },
  "language_info": {
   "codemirror_mode": {
    "name": "ipython",
    "version": 3
   },
   "file_extension": ".py",
   "mimetype": "text/x-python",
   "name": "python",
   "nbconvert_exporter": "python",
   "pygments_lexer": "ipython3",
   "version": "3.11.0"
  }
 },
 "nbformat": 4,
 "nbformat_minor": 2
}
