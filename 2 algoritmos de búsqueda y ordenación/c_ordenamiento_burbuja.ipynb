{
 "cells": [
  {
   "cell_type": "code",
   "execution_count": 3,
   "metadata": {},
   "outputs": [],
   "source": [
    "from random import randint"
   ]
  },
  {
   "cell_type": "code",
   "execution_count": 4,
   "metadata": {},
   "outputs": [],
   "source": [
    "def ordenamiento_burbuja(lista):\n",
    "    n = len(lista)\n",
    "\n",
    "    for i in range(n):\n",
    "        for j in range(n-i-1):\n",
    "            if lista[j] > lista[j+1]:\n",
    "\n",
    "                lista[j], lista[j+1] = lista[j+1], lista[j]\n",
    "                print(lista)\n",
    "        print()\n",
    "    return lista"
   ]
  },
  {
   "cell_type": "code",
   "execution_count": 5,
   "metadata": {},
   "outputs": [
    {
     "name": "stdout",
     "output_type": "stream",
     "text": [
      "[69, 53, 51, 47, 3, 39, 61, 21, 74, 14]\n",
      "\n",
      "[53, 69, 51, 47, 3, 39, 61, 21, 74, 14]\n",
      "[53, 51, 69, 47, 3, 39, 61, 21, 74, 14]\n",
      "[53, 51, 47, 69, 3, 39, 61, 21, 74, 14]\n",
      "[53, 51, 47, 3, 69, 39, 61, 21, 74, 14]\n",
      "[53, 51, 47, 3, 39, 69, 61, 21, 74, 14]\n",
      "[53, 51, 47, 3, 39, 61, 69, 21, 74, 14]\n",
      "[53, 51, 47, 3, 39, 61, 21, 69, 74, 14]\n",
      "[53, 51, 47, 3, 39, 61, 21, 69, 14, 74]\n",
      "\n",
      "[51, 53, 47, 3, 39, 61, 21, 69, 14, 74]\n",
      "[51, 47, 53, 3, 39, 61, 21, 69, 14, 74]\n",
      "[51, 47, 3, 53, 39, 61, 21, 69, 14, 74]\n",
      "[51, 47, 3, 39, 53, 61, 21, 69, 14, 74]\n",
      "[51, 47, 3, 39, 53, 21, 61, 69, 14, 74]\n",
      "[51, 47, 3, 39, 53, 21, 61, 14, 69, 74]\n",
      "\n",
      "[47, 51, 3, 39, 53, 21, 61, 14, 69, 74]\n",
      "[47, 3, 51, 39, 53, 21, 61, 14, 69, 74]\n",
      "[47, 3, 39, 51, 53, 21, 61, 14, 69, 74]\n",
      "[47, 3, 39, 51, 21, 53, 61, 14, 69, 74]\n",
      "[47, 3, 39, 51, 21, 53, 14, 61, 69, 74]\n",
      "\n",
      "[3, 47, 39, 51, 21, 53, 14, 61, 69, 74]\n",
      "[3, 39, 47, 51, 21, 53, 14, 61, 69, 74]\n",
      "[3, 39, 47, 21, 51, 53, 14, 61, 69, 74]\n",
      "[3, 39, 47, 21, 51, 14, 53, 61, 69, 74]\n",
      "\n",
      "[3, 39, 21, 47, 51, 14, 53, 61, 69, 74]\n",
      "[3, 39, 21, 47, 14, 51, 53, 61, 69, 74]\n",
      "\n",
      "[3, 21, 39, 47, 14, 51, 53, 61, 69, 74]\n",
      "[3, 21, 39, 14, 47, 51, 53, 61, 69, 74]\n",
      "\n",
      "[3, 21, 14, 39, 47, 51, 53, 61, 69, 74]\n",
      "\n",
      "[3, 14, 21, 39, 47, 51, 53, 61, 69, 74]\n",
      "\n",
      "\n",
      "\n",
      "\n",
      "[3, 14, 21, 39, 47, 51, 53, 61, 69, 74]\n"
     ]
    }
   ],
   "source": [
    "tamaño = 10\n",
    "\n",
    "lista = [randint(0, 100) for _ in range(tamaño)]\n",
    "# lista = [12, 7, 76, 72, 25, 37, 51, 19, 93, 58]\n",
    "print(lista)\n",
    "print()\n",
    "lista_ordenada = ordenamiento_burbuja(lista)\n",
    "print()\n",
    "print(lista_ordenada)"
   ]
  }
 ],
 "metadata": {
  "kernelspec": {
   "display_name": "Python 3",
   "language": "python",
   "name": "python3"
  },
  "language_info": {
   "codemirror_mode": {
    "name": "ipython",
    "version": 3
   },
   "file_extension": ".py",
   "mimetype": "text/x-python",
   "name": "python",
   "nbconvert_exporter": "python",
   "pygments_lexer": "ipython3",
   "version": "3.11.0"
  }
 },
 "nbformat": 4,
 "nbformat_minor": 2
}
